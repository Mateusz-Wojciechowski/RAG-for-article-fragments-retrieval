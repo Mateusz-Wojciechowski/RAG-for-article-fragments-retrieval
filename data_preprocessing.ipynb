{
 "cells": [
  {
   "cell_type": "code",
   "execution_count": 3,
   "id": "6c65e337",
   "metadata": {
    "is_executing": true
   },
   "outputs": [],
   "source": [
    "import pandas as pd"
   ]
  },
  {
   "cell_type": "code",
   "execution_count": 4,
   "id": "fecca997",
   "metadata": {},
   "outputs": [],
   "source": [
    "df = pd.read_csv('medium.csv', encoding='utf-8')\n",
    "\n",
    "def remove_unsupported_characters(text):\n",
    "    return text.encode('cp1250', 'ignore').decode('cp1250')\n",
    "\n",
    "df['Title'] = df['Title'].apply(remove_unsupported_characters)\n",
    "df['Text'] = df['Text'].apply(remove_unsupported_characters)\n",
    "\n",
    "df.to_csv('medium_cp1250_compatible.csv', index=False, encoding='cp1250')"
   ]
  },
  {
   "cell_type": "code",
   "execution_count": 5,
   "id": "0bc6dbbb",
   "metadata": {},
   "outputs": [],
   "source": []
  }
 ],
 "metadata": {
  "kernelspec": {
   "display_name": "Python 3 (ipykernel)",
   "language": "python",
   "name": "python3"
  },
  "language_info": {
   "codemirror_mode": {
    "name": "ipython",
    "version": 3
   },
   "file_extension": ".py",
   "mimetype": "text/x-python",
   "name": "python",
   "nbconvert_exporter": "python",
   "pygments_lexer": "ipython3",
   "version": "3.12.2"
  }
 },
 "nbformat": 4,
 "nbformat_minor": 5
}
