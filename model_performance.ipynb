{
 "cells": [
  {
   "cell_type": "markdown",
   "id": "c2fa1cd4-fdff-486e-b9fd-55e176eb06ec",
   "metadata": {},
   "source": [
    "# Loading necessary modules"
   ]
  },
  {
   "cell_type": "code",
   "execution_count": 1,
   "id": "b3126d50-37ff-4af5-9b8e-a7468c4f6ea2",
   "metadata": {},
   "outputs": [],
   "source": [
    "from retrieve_information import retrieve_information\n",
    "from langchain_community.vectorstores import FAISS\n",
    "from functionalities import create_embedding_model"
   ]
  },
  {
   "cell_type": "markdown",
   "id": "a6ae3cb1-bc7e-4dca-a2c6-46f931cb05c1",
   "metadata": {},
   "source": [
    "# Creating a list of queries"
   ]
  },
  {
   "cell_type": "code",
   "execution_count": 2,
   "id": "767669e4-31ee-4258-88d3-87f915c22d1b",
   "metadata": {},
   "outputs": [],
   "source": [
    "query_list = [\"backpropagating the error in a neural network\", \"what does the Vehicle Dataset contain\", \n",
    "              \"overfitting problem in machine learning\", \"The DotA API release date\", \"political candidates with most Twitter followers\", \n",
    "              \"matrices updated in Stochastic Gradient Descent\", \"making genetic algorithm work for a bot\", \"what is grammar of graphics\"\n",
    "             ]"
   ]
  },
  {
   "cell_type": "markdown",
   "id": "8cd763fa-2aee-4135-bba8-a271bf662fea",
   "metadata": {},
   "source": [
    "# Creating the embedding model and loading db"
   ]
  },
  {
   "cell_type": "code",
   "execution_count": 3,
   "id": "b13acc4b-d915-4d7a-a046-f39db5917e50",
   "metadata": {},
   "outputs": [],
   "source": [
    "embedding_model = create_embedding_model()\n",
    "db_loaded = FAISS.load_local(\"faiss_index\", embedding_model, allow_dangerous_deserialization=True)"
   ]
  },
  {
   "cell_type": "markdown",
   "id": "64c5fe34-ae36-4ed0-a6e1-47eeea27e976",
   "metadata": {},
   "source": [
    "# Retrieving information in response to various queries"
   ]
  },
  {
   "cell_type": "code",
   "execution_count": 4,
   "id": "44602b13-03ff-42ef-96b4-1b972b622e06",
   "metadata": {},
   "outputs": [
    {
     "name": "stdout",
     "output_type": "stream",
     "text": [
      "\u001b[94mQuery: backpropagating the error in a neural network\u001b[0m\n",
      "\n",
      "Retrieved infromation: The error is backpropagated via the derivative of activation function, then weighted by the input (the activation output) from the previous layer. In the second formula, the backpropagated error from the output layer is further projected onto w_jk, then repeat the same way of backpropagation and weighted by the input.\n",
      "\n",
      "\u001b[94mQuery: what does the Vehicle Dataset contain\u001b[0m\n",
      "\n",
      "Retrieved infromation: This vehicle dataset includes features such as make, model, year, engine, and other properties of the car.\n",
      "\n",
      "\u001b[94mQuery: overfitting problem in machine learning\u001b[0m\n",
      "\n",
      "Retrieved infromation: Overfitting is a phenomenon where a neural network starts to memorize unique quirks of the training data (e.g. training data noise) instead of learning generally-applicable principles. Since the whole point of neural network models is to solve real problems on new data, we want to avoid overfitting so that we obtain a practically useful model. Here is an example of overfitting in a classification problem:\n",
      "\n",
      "In this classification task we want to learn a line that separates the red dots from the blue dots.\n",
      "\n",
      "\u001b[94mQuery: The DotA API release date\u001b[0m\n",
      "\n",
      "Retrieved infromation: The DotA API was made available in early 2016, though hasn’t received any meaningful updates since approximately October of 2017.\n",
      "\n",
      "\u001b[94mQuery: political candidates with most Twitter followers\u001b[0m\n",
      "\n",
      "Retrieved infromation: Twitter Statistics\n",
      "\n",
      "Followers\n",
      "\n",
      "The candidate with the most Twitter followers is definely Bernie Sanders. Between his senate (@SenSanders) and personal (@BernieSanders) accounts, Sanders has over 17 million followers.\n",
      "\n",
      "\u001b[94mQuery: matrices updated in Stochastic Gradient Descent\u001b[0m\n",
      "\n",
      "Retrieved infromation: With our Matrices P, Q, we’ll optimize their values by using Stochastic Gradient Descent. In normal Stochastic Gradient Descent fashion, we’ll update both of the matrices P and Q simultaneously by adding the current row for P and Q by the learning rate times the product of the error times the other Matrix’s values.\n",
      "\n",
      "\u001b[94mQuery: making genetic algorithm work for a bot\u001b[0m\n",
      "\n",
      "Retrieved infromation: Assuming we programmed the bot well, it could now decide for itself what it should do based on the game state. In order to get the genetic algorithm to work, we needed to run multiple iterations of our bot. Conclusion\n",
      "\n",
      "The genetic algorithm seems to have improved the bot, although its play style is considerably different from the original non-genetic version. If we continued to work on the project, I believe the next step would be having the bot begin to fight itself and the older, non-genetic version of the bot.\n",
      "\n",
      "\u001b[94mQuery: what is grammar of graphics\u001b[0m\n",
      "\n",
      "Retrieved infromation: The idea of the grammar of graphics is to build a graphics by adding layers to the plot. More information can be found in https://towardsdatascience.com/a-comprehensive-guide-to-the-grammar-of-graphics-for-effective-visualization-of-multi-dimensional-1f92b4ed4149. The Grammar of Graphics (Statistics and Computing).\n",
      "\n"
     ]
    }
   ],
   "source": [
    "for query in query_list:\n",
    "    print(f\"\\033[94mQuery: {query}\\033[0m\\n\")\n",
    "    print(f\"Retrieved infromation: {retrieve_information(query, embedding_model, db_loaded)}\\n\")"
   ]
  },
  {
   "cell_type": "code",
   "execution_count": null,
   "id": "0e1fbc8f-0381-404b-9bd0-71d444a81f23",
   "metadata": {},
   "outputs": [],
   "source": []
  }
 ],
 "metadata": {
  "kernelspec": {
   "display_name": "Python 3 (ipykernel)",
   "language": "python",
   "name": "python3"
  },
  "language_info": {
   "codemirror_mode": {
    "name": "ipython",
    "version": 3
   },
   "file_extension": ".py",
   "mimetype": "text/x-python",
   "name": "python",
   "nbconvert_exporter": "python",
   "pygments_lexer": "ipython3",
   "version": "3.12.2"
  }
 },
 "nbformat": 4,
 "nbformat_minor": 5
}
